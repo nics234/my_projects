{
 "cells": [
  {
   "cell_type": "code",
   "execution_count": 25,
   "metadata": {},
   "outputs": [
    {
     "name": "stdout",
     "output_type": "stream",
     "text": [
      "\u001b[1mIn Week 2:\n",
      "\n",
      "\u001b[0mPlayer One's Teams have scored a total of 2064 Yards on Offense.\n",
      "\n",
      "Player Two's Teams have scored a total of 2273 Yards on Offense.\n",
      "\n",
      "Player Three's Teams have scored a total of 2624 Yards on Offense.\n",
      "\n"
     ]
    }
   ],
   "source": [
    "import requests\n",
    "import pandas as pd\n",
    "import lxml.html as lh\n",
    "\n",
    "Player_one_key = list([\"Saints\", \"Seattle\", \"Vikings\"])\n",
    "Player_one = []\n",
    "Player_two_key = list([\"Chiefs\", \"Chargers\", \"Tampa\"])\n",
    "Player_two = []\n",
    "Player_three_key = list([\"Dallas\", \"Ravens\", \"Falcons\"])\n",
    "Player_three = []\n",
    "\n",
    "\n",
    "url = 'https://www.espn.com/nfl/stats/team'\n",
    "html = requests.get(url).content\n",
    "df_list = pd.read_html(html)\n",
    "df_stats = str(list(df_list[-1:]))\n",
    "df_teams = str(list(df_list[:-1]))\n",
    "\n",
    "df_stats\n",
    "df_teams = df_teams.split(\"\\n\")\n",
    "df_teams = list(df_teams)\n",
    "\n",
    "df_stats = df_stats.split(\"\\n\")\n",
    "df_stats = list(df_stats)\n",
    "\n",
    "del df_stats[0]\n",
    "\n",
    "for i in range(len(df_teams)):\n",
    "    df_teams[i] = df_teams[i][2:]\n",
    "for i in range(len(df_stats)):\n",
    "    df_stats[i] = df_stats[i][2:]\n",
    "\n",
    "df_week = int(df_stats[1][15:20])\n",
    "\n",
    "\n",
    "for i in range(len(df_stats)):\n",
    "    df_stats[i] = df_stats[i][20:25]\n",
    "df_stats\n",
    "\n",
    "df_teams = pd.DataFrame(df_teams)\n",
    "df_teams.loc[-1] = ['Team']  # adding a row\n",
    "df_teams.index = df_teams.index + 1  # shifting index\n",
    "df_teams.sort_index(inplace=True) \n",
    "\n",
    "df_stats = pd.DataFrame(df_stats)\n",
    "df_all = pd.concat([df_teams, df_stats.reindex(df_teams.index)], axis = 1)\n",
    "df_all  = pd.DataFrame(df_all.values[1:], columns=df_all.iloc[0])\n",
    "df_all.columns = [\"TEAM\", \"TOTAL OFFENSE\"]\n",
    "\n",
    "for i in range(len(df_all[\"TOTAL OFFENSE\"])):\n",
    "    df_all[\"TOTAL OFFENSE\"][i] = int(df_all[\"TOTAL OFFENSE\"][i])\n",
    "for i in range(len(df_all)):\n",
    "    for j in range(len(Player_one_key)):\n",
    "        if (Player_one_key[j]) in df_all[\"TEAM\"][i]: \n",
    "            Player_one.append(df_all[\"TOTAL OFFENSE\"][i])\n",
    "\n",
    "for i in range(len(df_all)):\n",
    "    for j in range(len(Player_two_key)):\n",
    "        if (Player_two_key[j]) in df_all[\"TEAM\"][i]: \n",
    "            Player_two.append(df_all[\"TOTAL OFFENSE\"][i])\n",
    "for i in range(len(df_all)):\n",
    "    for j in range(len(Player_three_key)):\n",
    "        if (Player_three_key[j]) in df_all[\"TEAM\"][i]: \n",
    "            Player_three.append(df_all[\"TOTAL OFFENSE\"][i])\n",
    "            \n",
    "print('\\033[1m' + \"In Week {}:\\n\".format(df_week))\n",
    "print('\\033[0m' + \"Player One's Teams have scored a total of {} Yards on Offense.\\n\".format(sum(Player_one)))\n",
    "print(\"Player Two's Teams have scored a total of {} Yards on Offense.\\n\".format(sum(Player_two)))\n",
    "print(\"Player Three's Teams have scored a total of {} Yards on Offense.\\n\".format(sum(Player_three)))"
   ]
  },
  {
   "cell_type": "code",
   "execution_count": null,
   "metadata": {},
   "outputs": [],
   "source": []
  },
  {
   "cell_type": "code",
   "execution_count": null,
   "metadata": {},
   "outputs": [],
   "source": []
  },
  {
   "cell_type": "code",
   "execution_count": null,
   "metadata": {},
   "outputs": [],
   "source": []
  },
  {
   "cell_type": "code",
   "execution_count": null,
   "metadata": {},
   "outputs": [],
   "source": []
  }
 ],
 "metadata": {
  "kernelspec": {
   "display_name": "Python 3",
   "language": "python",
   "name": "python3"
  },
  "language_info": {
   "codemirror_mode": {
    "name": "ipython",
    "version": 3
   },
   "file_extension": ".py",
   "mimetype": "text/x-python",
   "name": "python",
   "nbconvert_exporter": "python",
   "pygments_lexer": "ipython3",
   "version": "3.7.6"
  }
 },
 "nbformat": 4,
 "nbformat_minor": 4
}
